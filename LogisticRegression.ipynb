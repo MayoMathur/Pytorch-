{
 "cells": [
  {
   "cell_type": "code",
   "execution_count": 1,
   "metadata": {},
   "outputs": [],
   "source": [
    "import torch \n",
    "import torchvision \n",
    "from torchvision.datasets import MNIST"
   ]
  },
  {
   "cell_type": "markdown",
   "metadata": {},
   "source": [
    "#### Downloading and splitting  dataset into train and test"
   ]
  },
  {
   "cell_type": "code",
   "execution_count": 2,
   "metadata": {},
   "outputs": [],
   "source": [
    "dataset = MNIST(root='/home/thor/Srm/Reasearch Papers /Programming/freecodecamp/pytorchjovian/secondclass', download=True)"
   ]
  },
  {
   "cell_type": "code",
   "execution_count": 3,
   "metadata": {},
   "outputs": [
    {
     "data": {
      "text/plain": [
       "Dataset MNIST\n",
       "    Number of datapoints: 60000\n",
       "    Split: train\n",
       "    Root Location: /home/thor/Srm/Reasearch Papers /Programming/freecodecamp/pytorchjovian/secondclass\n",
       "    Transforms (if any): None\n",
       "    Target Transforms (if any): None"
      ]
     },
     "execution_count": 3,
     "metadata": {},
     "output_type": "execute_result"
    }
   ],
   "source": [
    "dataset"
   ]
  },
  {
   "cell_type": "code",
   "execution_count": 4,
   "metadata": {},
   "outputs": [
    {
     "data": {
      "text/plain": [
       "60000"
      ]
     },
     "execution_count": 4,
     "metadata": {},
     "output_type": "execute_result"
    }
   ],
   "source": [
    "len(dataset)"
   ]
  },
  {
   "cell_type": "code",
   "execution_count": 5,
   "metadata": {},
   "outputs": [
    {
     "data": {
      "text/plain": [
       "Dataset MNIST\n",
       "    Number of datapoints: 10000\n",
       "    Split: test\n",
       "    Root Location: /home/thor/Srm/Reasearch Papers /Programming/freecodecamp/pytorchjovian/secondclass\n",
       "    Transforms (if any): None\n",
       "    Target Transforms (if any): None"
      ]
     },
     "execution_count": 5,
     "metadata": {},
     "output_type": "execute_result"
    }
   ],
   "source": [
    "test_dataset = MNIST(root='/home/thor/Srm/Reasearch Papers /Programming/freecodecamp/pytorchjovian/secondclass', train=False)\n",
    "test_dataset"
   ]
  },
  {
   "cell_type": "code",
   "execution_count": 6,
   "metadata": {},
   "outputs": [
    {
     "data": {
      "text/plain": [
       "10000"
      ]
     },
     "execution_count": 6,
     "metadata": {},
     "output_type": "execute_result"
    }
   ],
   "source": [
    "len(test_dataset)"
   ]
  },
  {
   "cell_type": "code",
   "execution_count": 7,
   "metadata": {},
   "outputs": [
    {
     "data": {
      "text/plain": [
       "(<PIL.Image.Image image mode=L size=28x28 at 0x7FF123DF3E48>, tensor(5))"
      ]
     },
     "execution_count": 7,
     "metadata": {},
     "output_type": "execute_result"
    }
   ],
   "source": [
    "dataset[0]"
   ]
  },
  {
   "cell_type": "markdown",
   "metadata": {},
   "source": [
    "This is implemeted using supervised learning "
   ]
  },
  {
   "cell_type": "markdown",
   "metadata": {},
   "source": [
    "#### Displaying image on graph"
   ]
  },
  {
   "cell_type": "code",
   "execution_count": 8,
   "metadata": {},
   "outputs": [],
   "source": [
    "import matplotlib.pyplot as plt"
   ]
  },
  {
   "cell_type": "code",
   "execution_count": 9,
   "metadata": {},
   "outputs": [
    {
     "name": "stdout",
     "output_type": "stream",
     "text": [
      "Label : tensor(5)\n"
     ]
    },
    {
     "data": {
      "image/png": "[encoded data removed]",
      "text/plain": [
       "<Figure size 432x288 with 1 Axes>"
      ]
     },
     "metadata": {},
     "output_type": "display_data"
    }
   ],
   "source": [
    "image, label = dataset[0]\n",
    "plt.imshow(image, cmap='gray')\n",
    "print('Label :', label)"
   ]
  },
  {
   "cell_type": "code",
   "execution_count": 10,
   "metadata": {},
   "outputs": [
    {
     "name": "stdout",
     "output_type": "stream",
     "text": [
      "label:  tensor(7)\n"
     ]
    },
    {
     "data": {
      "image/png": "[encoded data removed]",
      "text/plain": [
       "<Figure size 432x288 with 1 Axes>"
      ]
     },
     "metadata": {},
     "output_type": "display_data"
    }
   ],
   "source": [
    "image, label = dataset[15]\n",
    "plt.imshow(image, cmap='gray')\n",
    "print('label: ', label)"
   ]
  },
  {
   "cell_type": "code",
   "execution_count": 11,
   "metadata": {},
   "outputs": [
    {
     "name": "stdout",
     "output_type": "stream",
     "text": [
      "Label:  tensor(3)\n"
     ]
    },
    {
     "data": {
      "image/png": "[encoded data removed]",
      "text/plain": [
       "<Figure size 432x288 with 1 Axes>"
      ]
     },
     "metadata": {},
     "output_type": "display_data"
    }
   ],
   "source": [
    "image, label = dataset[10]\n",
    "plt.imshow(image, cmap='gray')\n",
    "print('Label: ', label)"
   ]
  },
  {
   "cell_type": "markdown",
   "metadata": {},
   "source": [
    "#### Converting images to tensors"
   ]
  },
  {
   "cell_type": "markdown",
   "metadata": {},
   "source": [
    "Pytorch cannot work with images , therefore the images are converted to tensors with the following class of torchvision"
   ]
  },
  {
   "cell_type": "code",
   "execution_count": 12,
   "metadata": {},
   "outputs": [],
   "source": [
    "from torchvision.transforms import transforms"
   ]
  },
  {
   "cell_type": "markdown",
   "metadata": {},
   "source": [
    "Pytorch dataset can be transformed into varoius ways. Here we use .ToTensor() to convert images to tensor when laded to memory."
   ]
  },
  {
   "cell_type": "code",
   "execution_count": 13,
   "metadata": {},
   "outputs": [],
   "source": [
    "dataset = MNIST(root='/home/thor/Srm/Reasearch Papers /Programming/freecodecamp/pytorchjovian/secondclass', \n",
    "               train=True, transform= transforms.ToTensor())"
   ]
  },
  {
   "cell_type": "markdown",
   "metadata": {},
   "source": [
    "Now we check the image format."
   ]
  },
  {
   "cell_type": "code",
   "execution_count": 14,
   "metadata": {},
   "outputs": [
    {
     "name": "stdout",
     "output_type": "stream",
     "text": [
      "torch.Size([1, 28, 28]) tensor(5)\n"
     ]
    }
   ],
   "source": [
    "image_tensor, label = dataset[0]\n",
    "print(image_tensor.shape, label)"
   ]
  },
  {
   "cell_type": "markdown",
   "metadata": {},
   "source": [
    "first element represents color channel. Here it is grayscale therefore its 1, others like RGB have 3. The other tow elements represent the pixel values."
   ]
  },
  {
   "cell_type": "code",
   "execution_count": 18,
   "metadata": {},
   "outputs": [
    {
     "name": "stdout",
     "output_type": "stream",
     "text": [
      "tensor([[[0.0039, 0.6039, 0.9922, 0.3529, 0.0000],\n",
      "         [0.0000, 0.5451, 0.9922, 0.7451, 0.0078],\n",
      "         [0.0000, 0.0431, 0.7451, 0.9922, 0.2745],\n",
      "         [0.0000, 0.0000, 0.1373, 0.9451, 0.8824],\n",
      "         [0.0000, 0.0000, 0.0000, 0.3176, 0.9412]]])\n",
      "tensor(1.) tensor(0.)\n"
     ]
    }
   ],
   "source": [
    "# Checking sample values of the created tensor.\n",
    "#image_tensor # hepls to the see the entire 28 rows Therefore we use indexing to see a slice of the created tensor.\n",
    "# Slicing\n",
    "print(image_tensor[:, 10:15, 10:15]) # first element for grayscale ':' used for one, second row:row, third column:column\n",
    "print(torch.max(image_tensor), torch.min(image_tensor)) # 1. represents white, 0. for black, values between for gray"
   ]
  },
  {
   "cell_type": "code",
   "execution_count": 15,
   "metadata": {},
   "outputs": [
    {
     "data": {
      "text/plain": [
       "<matplotlib.image.AxesImage at 0x7ff11f72fb00>"
      ]
     },
     "execution_count": 15,
     "metadata": {},
     "output_type": "execute_result"
    },
    {
     "data": {
      "image/png": "[encoded data removed]",
      "text/plain": [
       "<Figure size 432x288 with 1 Axes>"
      ]
     },
     "metadata": {},
     "output_type": "display_data"
    }
   ],
   "source": [
    "# Plot the sliced image tensor\n",
    "plt.imshow(image_tensor[0, 10:15, 10:15], cmap='gray')"
   ]
  },
  {
   "cell_type": "markdown",
   "metadata": {},
   "source": [
    "#### Training and Validation Datasets"
   ]
  },
  {
   "cell_type": "markdown",
   "metadata": {},
   "source": [
    "Training and validation are done together in order to improve the model as training tends to memorize the information which makes it less efficient over new data. So validation is done by changing the learning rate and other parameters."
   ]
  },
  {
   "cell_type": "code",
   "execution_count": 16,
   "metadata": {},
   "outputs": [],
   "source": [
    "# Training and Validation\n",
    "from torch.utils.data import random_split"
   ]
  },
  {
   "cell_type": "markdown",
   "metadata": {},
   "source": [
    "We use random_split because if we split uniformly the training and validation set will have only particular set of numbers and not all the numbers in each set. For instance training will have number from 0 to 6 and validation set will have numbers from 7 to 9. This will make the training incomplete and the validation set will make a wrong validation criteria."
   ]
  },
  {
   "cell_type": "code",
   "execution_count": 17,
   "metadata": {},
   "outputs": [
    {
     "data": {
      "text/plain": [
       "(50000, 10000)"
      ]
     },
     "execution_count": 17,
     "metadata": {},
     "output_type": "execute_result"
    }
   ],
   "source": [
    "train_ds, val_ds = random_split(dataset, [50000, 10000])\n",
    "len(train_ds), len(val_ds)"
   ]
  },
  {
   "cell_type": "code",
   "execution_count": 18,
   "metadata": {},
   "outputs": [],
   "source": [
    "# Loading data in batches\n",
    "from torch.utils.data import DataLoader\n",
    "batch_size = 128\n",
    "train_dl = DataLoader(train_ds, batch_size, shuffle=True)\n",
    "val_dl = DataLoader(val_ds, batch_size) # Shuffling not required because it is only used for evaaluation and not modifying weights and biases "
   ]
  },
  {
   "cell_type": "markdown",
   "metadata": {},
   "source": [
    "#### Model"
   ]
  },
  {
   "cell_type": "markdown",
   "metadata": {},
   "source": [
    "Using torch built-in functions"
   ]
  },
  {
   "cell_type": "code",
   "execution_count": 19,
   "metadata": {},
   "outputs": [],
   "source": [
    "import torch.nn as nn"
   ]
  },
  {
   "cell_type": "markdown",
   "metadata": {},
   "source": [
    "Flatten image tensor by - (28X28) = 784 before being passed int model. The output of the image is taken 10, where each element of the vector represents image label(0 to 9) respectively"
   ]
  },
  {
   "cell_type": "code",
   "execution_count": 20,
   "metadata": {},
   "outputs": [],
   "source": [
    "input_size = 28*28\n",
    "num_classes = 10\n",
    "\n",
    "# Logitic Regression model\n",
    "model = nn.Linear(input_size, num_classes)"
   ]
  },
  {
   "cell_type": "code",
   "execution_count": 21,
   "metadata": {},
   "outputs": [
    {
     "name": "stdout",
     "output_type": "stream",
     "text": [
      "torch.Size([10, 784])\n"
     ]
    },
    {
     "data": {
      "text/plain": [
       "Parameter containing:\n",
       "tensor([[-0.0269,  0.0275, -0.0073,  ..., -0.0105, -0.0281, -0.0161],\n",
       "        [-0.0335, -0.0332, -0.0312,  ..., -0.0251, -0.0315,  0.0356],\n",
       "        [ 0.0105,  0.0243,  0.0008,  ..., -0.0200, -0.0264, -0.0024],\n",
       "        ...,\n",
       "        [-0.0085,  0.0252, -0.0263,  ...,  0.0131,  0.0197, -0.0338],\n",
       "        [ 0.0319,  0.0230,  0.0309,  ..., -0.0037,  0.0283,  0.0161],\n",
       "        [-0.0343, -0.0262, -0.0205,  ..., -0.0188,  0.0078, -0.0192]],\n",
       "       requires_grad=True)"
      ]
     },
     "execution_count": 21,
     "metadata": {},
     "output_type": "execute_result"
    }
   ],
   "source": [
    "print(model.weight.shape)\n",
    "model.weight"
   ]
  },
  {
   "cell_type": "code",
   "execution_count": 22,
   "metadata": {},
   "outputs": [
    {
     "name": "stdout",
     "output_type": "stream",
     "text": [
      "torch.Size([10])\n"
     ]
    },
    {
     "data": {
      "text/plain": [
       "Parameter containing:\n",
       "tensor([ 0.0118,  0.0239,  0.0010,  0.0034, -0.0004, -0.0013, -0.0021, -0.0154,\n",
       "        -0.0069, -0.0280], requires_grad=True)"
      ]
     },
     "execution_count": 22,
     "metadata": {},
     "output_type": "execute_result"
    }
   ],
   "source": [
    "print(model.bias.shape)\n",
    "model.bias"
   ]
  },
  {
   "cell_type": "code",
   "execution_count": 23,
   "metadata": {},
   "outputs": [
    {
     "name": "stdout",
     "output_type": "stream",
     "text": [
      "tensor([1, 6, 0, 9, 7, 0, 4, 2, 3, 2, 2, 3, 1, 9, 8, 1, 0, 2, 7, 2, 5, 4, 7, 9,\n",
      "        4, 8, 1, 7, 9, 0, 7, 5, 5, 4, 1, 8, 8, 0, 0, 5, 7, 4, 5, 2, 8, 2, 8, 8,\n",
      "        2, 1, 2, 0, 5, 9, 6, 4, 5, 6, 9, 6, 8, 9, 3, 2, 2, 4, 3, 8, 3, 5, 9, 9,\n",
      "        5, 1, 0, 1, 1, 0, 0, 0, 7, 3, 3, 2, 8, 3, 9, 4, 0, 0, 1, 0, 1, 2, 1, 9,\n",
      "        1, 3, 4, 5, 7, 1, 0, 1, 8, 5, 0, 8, 9, 4, 0, 7, 8, 5, 9, 6, 0, 4, 7, 0,\n",
      "        2, 4, 6, 0, 9, 8, 7, 4])\n",
      "torch.Size([128, 1, 28, 28])\n"
     ]
    },
    {
     "ename": "RuntimeError",
     "evalue": "size mismatch, m1: [3584 x 28], m2: [784 x 10] at /opt/conda/conda-bld/pytorch_1544174967633/work/aten/src/TH/generic/THTensorMath.cpp:940",
     "output_type": "error",
     "traceback": [
      "\u001b[0;31m---------------------------------------------------------------------------\u001b[0m",
      "\u001b[0;31mRuntimeError\u001b[0m                              Traceback (most recent call last)",
      "\u001b[0;32m<ipython-input-23-b8dfc6e129e4>\u001b[0m in \u001b[0;36m<module>\u001b[0;34m()\u001b[0m\n\u001b[1;32m      2\u001b[0m     \u001b[0mprint\u001b[0m\u001b[0;34m(\u001b[0m\u001b[0mlabels\u001b[0m\u001b[0;34m)\u001b[0m\u001b[0;34m\u001b[0m\u001b[0;34m\u001b[0m\u001b[0m\n\u001b[1;32m      3\u001b[0m     \u001b[0mprint\u001b[0m\u001b[0;34m(\u001b[0m\u001b[0mimages\u001b[0m\u001b[0;34m.\u001b[0m\u001b[0mshape\u001b[0m\u001b[0;34m)\u001b[0m\u001b[0;34m\u001b[0m\u001b[0;34m\u001b[0m\u001b[0m\n\u001b[0;32m----> 4\u001b[0;31m     \u001b[0mouputs\u001b[0m \u001b[0;34m=\u001b[0m \u001b[0mmodel\u001b[0m\u001b[0;34m(\u001b[0m\u001b[0mimages\u001b[0m\u001b[0;34m)\u001b[0m\u001b[0;34m\u001b[0m\u001b[0;34m\u001b[0m\u001b[0m\n\u001b[0m\u001b[1;32m      5\u001b[0m     \u001b[0;32mbreak\u001b[0m\u001b[0;34m\u001b[0m\u001b[0;34m\u001b[0m\u001b[0m\n",
      "\u001b[0;32m~/anaconda3/envs/torch3env/lib/python3.6/site-packages/torch/nn/modules/module.py\u001b[0m in \u001b[0;36m__call__\u001b[0;34m(self, *input, **kwargs)\u001b[0m\n\u001b[1;32m    487\u001b[0m             \u001b[0mresult\u001b[0m \u001b[0;34m=\u001b[0m \u001b[0mself\u001b[0m\u001b[0;34m.\u001b[0m\u001b[0m_slow_forward\u001b[0m\u001b[0;34m(\u001b[0m\u001b[0;34m*\u001b[0m\u001b[0minput\u001b[0m\u001b[0;34m,\u001b[0m \u001b[0;34m**\u001b[0m\u001b[0mkwargs\u001b[0m\u001b[0;34m)\u001b[0m\u001b[0;34m\u001b[0m\u001b[0;34m\u001b[0m\u001b[0m\n\u001b[1;32m    488\u001b[0m         \u001b[0;32melse\u001b[0m\u001b[0;34m:\u001b[0m\u001b[0;34m\u001b[0m\u001b[0;34m\u001b[0m\u001b[0m\n\u001b[0;32m--> 489\u001b[0;31m             \u001b[0mresult\u001b[0m \u001b[0;34m=\u001b[0m \u001b[0mself\u001b[0m\u001b[0;34m.\u001b[0m\u001b[0mforward\u001b[0m\u001b[0;34m(\u001b[0m\u001b[0;34m*\u001b[0m\u001b[0minput\u001b[0m\u001b[0;34m,\u001b[0m \u001b[0;34m**\u001b[0m\u001b[0mkwargs\u001b[0m\u001b[0;34m)\u001b[0m\u001b[0;34m\u001b[0m\u001b[0;34m\u001b[0m\u001b[0m\n\u001b[0m\u001b[1;32m    490\u001b[0m         \u001b[0;32mfor\u001b[0m \u001b[0mhook\u001b[0m \u001b[0;32min\u001b[0m \u001b[0mself\u001b[0m\u001b[0;34m.\u001b[0m\u001b[0m_forward_hooks\u001b[0m\u001b[0;34m.\u001b[0m\u001b[0mvalues\u001b[0m\u001b[0;34m(\u001b[0m\u001b[0;34m)\u001b[0m\u001b[0;34m:\u001b[0m\u001b[0;34m\u001b[0m\u001b[0;34m\u001b[0m\u001b[0m\n\u001b[1;32m    491\u001b[0m             \u001b[0mhook_result\u001b[0m \u001b[0;34m=\u001b[0m \u001b[0mhook\u001b[0m\u001b[0;34m(\u001b[0m\u001b[0mself\u001b[0m\u001b[0;34m,\u001b[0m \u001b[0minput\u001b[0m\u001b[0;34m,\u001b[0m \u001b[0mresult\u001b[0m\u001b[0;34m)\u001b[0m\u001b[0;34m\u001b[0m\u001b[0;34m\u001b[0m\u001b[0m\n",
      "\u001b[0;32m~/anaconda3/envs/torch3env/lib/python3.6/site-packages/torch/nn/modules/linear.py\u001b[0m in \u001b[0;36mforward\u001b[0;34m(self, input)\u001b[0m\n\u001b[1;32m     65\u001b[0m     \u001b[0;34m@\u001b[0m\u001b[0mweak_script_method\u001b[0m\u001b[0;34m\u001b[0m\u001b[0;34m\u001b[0m\u001b[0m\n\u001b[1;32m     66\u001b[0m     \u001b[0;32mdef\u001b[0m \u001b[0mforward\u001b[0m\u001b[0;34m(\u001b[0m\u001b[0mself\u001b[0m\u001b[0;34m,\u001b[0m \u001b[0minput\u001b[0m\u001b[0;34m)\u001b[0m\u001b[0;34m:\u001b[0m\u001b[0;34m\u001b[0m\u001b[0;34m\u001b[0m\u001b[0m\n\u001b[0;32m---> 67\u001b[0;31m         \u001b[0;32mreturn\u001b[0m \u001b[0mF\u001b[0m\u001b[0;34m.\u001b[0m\u001b[0mlinear\u001b[0m\u001b[0;34m(\u001b[0m\u001b[0minput\u001b[0m\u001b[0;34m,\u001b[0m \u001b[0mself\u001b[0m\u001b[0;34m.\u001b[0m\u001b[0mweight\u001b[0m\u001b[0;34m,\u001b[0m \u001b[0mself\u001b[0m\u001b[0;34m.\u001b[0m\u001b[0mbias\u001b[0m\u001b[0;34m)\u001b[0m\u001b[0;34m\u001b[0m\u001b[0;34m\u001b[0m\u001b[0m\n\u001b[0m\u001b[1;32m     68\u001b[0m \u001b[0;34m\u001b[0m\u001b[0m\n\u001b[1;32m     69\u001b[0m     \u001b[0;32mdef\u001b[0m \u001b[0mextra_repr\u001b[0m\u001b[0;34m(\u001b[0m\u001b[0mself\u001b[0m\u001b[0;34m)\u001b[0m\u001b[0;34m:\u001b[0m\u001b[0;34m\u001b[0m\u001b[0;34m\u001b[0m\u001b[0m\n",
      "\u001b[0;32m~/anaconda3/envs/torch3env/lib/python3.6/site-packages/torch/nn/functional.py\u001b[0m in \u001b[0;36mlinear\u001b[0;34m(input, weight, bias)\u001b[0m\n\u001b[1;32m   1352\u001b[0m         \u001b[0mret\u001b[0m \u001b[0;34m=\u001b[0m \u001b[0mtorch\u001b[0m\u001b[0;34m.\u001b[0m\u001b[0maddmm\u001b[0m\u001b[0;34m(\u001b[0m\u001b[0mtorch\u001b[0m\u001b[0;34m.\u001b[0m\u001b[0mjit\u001b[0m\u001b[0;34m.\u001b[0m\u001b[0m_unwrap_optional\u001b[0m\u001b[0;34m(\u001b[0m\u001b[0mbias\u001b[0m\u001b[0;34m)\u001b[0m\u001b[0;34m,\u001b[0m \u001b[0minput\u001b[0m\u001b[0;34m,\u001b[0m \u001b[0mweight\u001b[0m\u001b[0;34m.\u001b[0m\u001b[0mt\u001b[0m\u001b[0;34m(\u001b[0m\u001b[0;34m)\u001b[0m\u001b[0;34m)\u001b[0m\u001b[0;34m\u001b[0m\u001b[0;34m\u001b[0m\u001b[0m\n\u001b[1;32m   1353\u001b[0m     \u001b[0;32melse\u001b[0m\u001b[0;34m:\u001b[0m\u001b[0;34m\u001b[0m\u001b[0;34m\u001b[0m\u001b[0m\n\u001b[0;32m-> 1354\u001b[0;31m         \u001b[0moutput\u001b[0m \u001b[0;34m=\u001b[0m \u001b[0minput\u001b[0m\u001b[0;34m.\u001b[0m\u001b[0mmatmul\u001b[0m\u001b[0;34m(\u001b[0m\u001b[0mweight\u001b[0m\u001b[0;34m.\u001b[0m\u001b[0mt\u001b[0m\u001b[0;34m(\u001b[0m\u001b[0;34m)\u001b[0m\u001b[0;34m)\u001b[0m\u001b[0;34m\u001b[0m\u001b[0;34m\u001b[0m\u001b[0m\n\u001b[0m\u001b[1;32m   1355\u001b[0m         \u001b[0;32mif\u001b[0m \u001b[0mbias\u001b[0m \u001b[0;32mis\u001b[0m \u001b[0;32mnot\u001b[0m \u001b[0;32mNone\u001b[0m\u001b[0;34m:\u001b[0m\u001b[0;34m\u001b[0m\u001b[0;34m\u001b[0m\u001b[0m\n\u001b[1;32m   1356\u001b[0m             \u001b[0moutput\u001b[0m \u001b[0;34m+=\u001b[0m \u001b[0mtorch\u001b[0m\u001b[0;34m.\u001b[0m\u001b[0mjit\u001b[0m\u001b[0;34m.\u001b[0m\u001b[0m_unwrap_optional\u001b[0m\u001b[0;34m(\u001b[0m\u001b[0mbias\u001b[0m\u001b[0;34m)\u001b[0m\u001b[0;34m\u001b[0m\u001b[0;34m\u001b[0m\u001b[0m\n",
      "\u001b[0;31mRuntimeError\u001b[0m: size mismatch, m1: [3584 x 28], m2: [784 x 10] at /opt/conda/conda-bld/pytorch_1544174967633/work/aten/src/TH/generic/THTensorMath.cpp:940"
     ]
    }
   ],
   "source": [
    "for images, labels in train_dl:\n",
    "    print(labels)\n",
    "    print(images.shape)\n",
    "    ouputs = model(images)\n",
    "    break"
   ]
  },
  {
   "cell_type": "markdown",
   "metadata": {},
   "source": [
    "Error due to wrong dimension of the image. This needs to be flattened. .reshape() is a tensor method which helps to view the image as flat vector. \n",
    "\n",
    "To do so we extend nn.Module class of pytorch and define a custom model."
   ]
  },
  {
   "cell_type": "code",
   "execution_count": 24,
   "metadata": {},
   "outputs": [],
   "source": [
    "class MnistModel(nn.Module):\n",
    "    def __init__(self): # Constructor\n",
    "        super().__init__() # To call constructor of nn.Module\n",
    "        self.linear = nn.Linear(input_size, num_classes)\n",
    "        \n",
    "    def forward(self, x):\n",
    "        x = x.reshape(-1, 784)\n",
    "        out = self.linear(x)\n",
    "        return out\n",
    "        \n",
    "model = MnistModel() # Create object of class.\n",
    "        "
   ]
  },
  {
   "cell_type": "markdown",
   "metadata": {},
   "source": [
    "First function is a contructor. __init__ constructor method, we instantiate the weights and biases using nn.Linear.  .reshape() is used to change the view of pytorch tensor. -1 represents that pytorch will decide itself what value to pass based on previous tensor. \n",
    "This model does not have weight and biases, but instead returns list of weight and biases using .parameters(), which is further used in optimization. "
   ]
  },
  {
   "cell_type": "code",
   "execution_count": 25,
   "metadata": {},
   "outputs": [
    {
     "name": "stdout",
     "output_type": "stream",
     "text": [
      "torch.Size([10, 784]) torch.Size([10])\n"
     ]
    },
    {
     "data": {
      "text/plain": [
       "[Parameter containing:\n",
       " tensor([[-0.0228,  0.0308,  0.0191,  ..., -0.0234, -0.0272,  0.0334],\n",
       "         [-0.0349, -0.0151,  0.0001,  ...,  0.0096, -0.0239,  0.0175],\n",
       "         [-0.0318, -0.0178, -0.0316,  ...,  0.0105,  0.0089,  0.0216],\n",
       "         ...,\n",
       "         [ 0.0163, -0.0243, -0.0282,  ...,  0.0072, -0.0148,  0.0214],\n",
       "         [-0.0334,  0.0171, -0.0338,  ..., -0.0094, -0.0121,  0.0027],\n",
       "         [ 0.0091, -0.0243, -0.0182,  ...,  0.0060,  0.0310,  0.0192]],\n",
       "        requires_grad=True), Parameter containing:\n",
       " tensor([ 0.0331, -0.0143, -0.0217,  0.0200, -0.0320, -0.0330, -0.0072, -0.0233,\n",
       "          0.0126,  0.0296], requires_grad=True)]"
      ]
     },
     "execution_count": 25,
     "metadata": {},
     "output_type": "execute_result"
    }
   ],
   "source": [
    "print(model.linear.weight.shape, model.linear.bias.shape)\n",
    "list(model.parameters())"
   ]
  },
  {
   "cell_type": "code",
   "execution_count": 26,
   "metadata": {},
   "outputs": [
    {
     "name": "stdout",
     "output_type": "stream",
     "text": [
      "Images:  torch.Size([128, 1, 28, 28])\n",
      "output.shape:  torch.Size([128, 10])\n",
      "Sample outputs:  tensor([[ 0.0227,  0.0833,  0.1454, -0.2663,  0.1954,  0.0615, -0.0631,  0.2042,\n",
      "          0.2042, -0.0046],\n",
      "        [-0.1943,  0.1443,  0.1587,  0.0036, -0.2020, -0.0350,  0.1801, -0.1106,\n",
      "          0.4974, -0.1485]])\n"
     ]
    }
   ],
   "source": [
    "# Using this model  in for-in loop.\n",
    "for images, labels in train_dl:\n",
    "    print('Images: ', images.shape)\n",
    "    output = model(images)\n",
    "    break\n",
    "print('output.shape: ', output.shape)\n",
    "print('Sample outputs: ', output[:2].data) # Gives output for two images"
   ]
  },
  {
   "cell_type": "markdown",
   "metadata": {},
   "source": [
    "We represent outputs as probability that should lie between 0 and 1. But here we have negative outputs. so in order to do so we use Softmax function."
   ]
  },
  {
   "cell_type": "markdown",
   "metadata": {},
   "source": [
    "###### Softmax Function"
   ]
  },
  {
   "cell_type": "code",
   "execution_count": 27,
   "metadata": {},
   "outputs": [
    {
     "data": {
      "text/plain": [
       "tensor([ 0.0227,  0.0833,  0.1454, -0.2663,  0.1954,  0.0615, -0.0631,  0.2042,\n",
       "         0.2042, -0.0046], grad_fn=<SelectBackward>)"
      ]
     },
     "execution_count": 27,
     "metadata": {},
     "output_type": "execute_result"
    }
   ],
   "source": [
    "output[0]"
   ]
  },
  {
   "cell_type": "code",
   "execution_count": 28,
   "metadata": {},
   "outputs": [
    {
     "data": {
      "text/plain": [
       "tensor([1.0229, 1.0869, 1.1565, 0.7662, 1.2158, 1.0635, 0.9389, 1.2265, 1.2265,\n",
       "        0.9954], grad_fn=<ExpBackward>)"
      ]
     },
     "execution_count": 28,
     "metadata": {},
     "output_type": "execute_result"
    }
   ],
   "source": [
    "# take exponential to convert negative to positive values for probability\n",
    "exps = torch.exp(output[0])\n",
    "exps"
   ]
  },
  {
   "cell_type": "code",
   "execution_count": 29,
   "metadata": {},
   "outputs": [
    {
     "data": {
      "text/plain": [
       "tensor([0.0956, 0.1016, 0.1081, 0.0716, 0.1136, 0.0994, 0.0878, 0.1146, 0.1146,\n",
       "        0.0930], grad_fn=<DivBackward0>)"
      ]
     },
     "execution_count": 29,
     "metadata": {},
     "output_type": "execute_result"
    }
   ],
   "source": [
    "# Converting numbers that are greater than 1 to lie between 0 and 1\n",
    "prob = exps / torch.sum(exps)\n",
    "prob"
   ]
  },
  {
   "cell_type": "code",
   "execution_count": 30,
   "metadata": {},
   "outputs": [
    {
     "name": "stdout",
     "output_type": "stream",
     "text": [
      "tensor(1.0000, grad_fn=<SumBackward0>)\n"
     ]
    }
   ],
   "source": [
    "# verifying probability by adding all probabilities which should be equal to 1.\n",
    "print(torch.sum(prob))"
   ]
  },
  {
   "cell_type": "markdown",
   "metadata": {},
   "source": [
    "###### Using built-in torch functions for calclating softmax function"
   ]
  },
  {
   "cell_type": "code",
   "execution_count": 31,
   "metadata": {},
   "outputs": [],
   "source": [
    "import torch.nn.functional as F "
   ]
  },
  {
   "cell_type": "code",
   "execution_count": 32,
   "metadata": {},
   "outputs": [
    {
     "name": "stdout",
     "output_type": "stream",
     "text": [
      "Sample Probabilities:  tensor([[0.0956, 0.1016, 0.1081, 0.0716, 0.1136, 0.0994, 0.0878, 0.1146, 0.1146,\n",
      "         0.0930],\n",
      "        [0.0781, 0.1096, 0.1112, 0.0953, 0.0776, 0.0916, 0.1136, 0.0850, 0.1561,\n",
      "         0.0818]])\n",
      "Sum of probabilities:  1.0\n"
     ]
    }
   ],
   "source": [
    "prob = F.softmax(output, dim=1) # Dimension is 1 because because 0th dimension is for batches and we want to apply softmax on a prticular image\n",
    "\n",
    "print('Sample Probabilities: ', prob[:2].data)\n",
    "\n",
    "# Checking sum of probabilities\n",
    "print('Sum of probabilities: ', torch.sum(prob[0]).item()) # .item() converts zero dimension tensor to a number"
   ]
  },
  {
   "cell_type": "code",
   "execution_count": 33,
   "metadata": {},
   "outputs": [
    {
     "name": "stdout",
     "output_type": "stream",
     "text": [
      "tensor([0.1146, 0.1561, 0.1555, 0.1329, 0.1306, 0.1193, 0.1360, 0.1313, 0.1256,\n",
      "        0.1397, 0.1309, 0.1479, 0.1320, 0.1515, 0.1425, 0.1446, 0.1421, 0.1253,\n",
      "        0.1317, 0.1349, 0.1365, 0.1232, 0.1236, 0.1164, 0.1436, 0.1293, 0.1202,\n",
      "        0.1320, 0.1344, 0.1281, 0.1278, 0.1351, 0.1225, 0.1372, 0.1227, 0.1545,\n",
      "        0.1157, 0.1203, 0.1370, 0.1488, 0.1733, 0.1166, 0.1385, 0.1117, 0.1247,\n",
      "        0.1197, 0.1204, 0.1352, 0.1357, 0.1292, 0.1293, 0.1230, 0.1290, 0.1893,\n",
      "        0.1379, 0.1243, 0.1216, 0.1423, 0.1220, 0.1165, 0.1256, 0.1275, 0.1188,\n",
      "        0.1444, 0.1240, 0.1325, 0.1349, 0.1245, 0.1160, 0.1398, 0.1213, 0.1250,\n",
      "        0.1248, 0.1254, 0.1414, 0.1370, 0.1208, 0.1176, 0.1500, 0.1274, 0.1330,\n",
      "        0.1298, 0.1167, 0.1313, 0.1237, 0.1270, 0.1182, 0.1397, 0.1103, 0.1336,\n",
      "        0.1255, 0.1200, 0.1347, 0.1174, 0.1436, 0.1195, 0.1439, 0.1298, 0.1259,\n",
      "        0.1368, 0.1388, 0.1399, 0.1440, 0.1240, 0.1158, 0.1376, 0.1163, 0.1283,\n",
      "        0.1237, 0.1393, 0.1209, 0.1528, 0.1218, 0.1286, 0.1248, 0.1293, 0.1256,\n",
      "        0.1412, 0.1174, 0.1341, 0.1189, 0.1279, 0.1230, 0.1605, 0.1385, 0.1237,\n",
      "        0.1188, 0.1344], grad_fn=<MaxBackward0>)\n",
      "tensor([8, 8, 0, 9, 8, 1, 0, 8, 2, 0, 0, 0, 6, 8, 0, 6, 0, 8, 6, 8, 6, 2, 0, 0,\n",
      "        0, 0, 6, 8, 0, 6, 0, 8, 0, 6, 6, 6, 1, 4, 0, 0, 8, 9, 8, 9, 0, 1, 6, 0,\n",
      "        6, 2, 4, 0, 6, 8, 8, 8, 6, 8, 7, 0, 2, 0, 6, 6, 8, 4, 0, 1, 8, 0, 0, 0,\n",
      "        6, 9, 0, 8, 8, 1, 8, 0, 8, 8, 2, 9, 0, 2, 0, 8, 1, 0, 0, 2, 8, 6, 8, 2,\n",
      "        2, 8, 0, 2, 0, 8, 0, 8, 8, 0, 1, 9, 0, 2, 0, 0, 6, 0, 0, 8, 5, 6, 0, 8,\n",
      "        0, 8, 9, 9, 8, 0, 0, 4])\n"
     ]
    }
   ],
   "source": [
    "# Predict label by choosing index with highest probability.\n",
    "max_prob, predict = torch.max(prob, dim=1)\n",
    "print(max_prob)\n",
    "print(predict)"
   ]
  },
  {
   "cell_type": "code",
   "execution_count": 34,
   "metadata": {},
   "outputs": [
    {
     "data": {
      "text/plain": [
       "tensor([7, 7, 2, 3, 5, 7, 9, 5, 8, 8, 9, 9, 9, 5, 2, 0, 4, 3, 8, 7, 5, 8, 1, 1,\n",
       "        8, 3, 7, 9, 2, 7, 1, 5, 3, 2, 0, 2, 7, 4, 9, 1, 0, 3, 7, 1, 7, 1, 3, 2,\n",
       "        0, 5, 2, 9, 2, 0, 8, 7, 4, 8, 8, 8, 2, 7, 3, 3, 5, 6, 9, 5, 9, 7, 2, 1,\n",
       "        9, 5, 4, 0, 7, 7, 0, 7, 5, 0, 7, 1, 6, 7, 6, 5, 9, 1, 1, 8, 5, 7, 5, 4,\n",
       "        6, 3, 7, 2, 8, 5, 7, 8, 6, 9, 9, 1, 8, 0, 6, 1, 3, 4, 4, 5, 5, 8, 9, 3,\n",
       "        1, 7, 6, 2, 3, 8, 5, 5])"
      ]
     },
     "execution_count": 34,
     "metadata": {},
     "output_type": "execute_result"
    }
   ],
   "source": [
    "# Compaing predicted with labels\n",
    "labels"
   ]
  },
  {
   "cell_type": "code",
   "execution_count": 35,
   "metadata": {},
   "outputs": [
    {
     "data": {
      "text/plain": [
       "128"
      ]
     },
     "execution_count": 35,
     "metadata": {},
     "output_type": "execute_result"
    }
   ],
   "source": [
    "len(labels)"
   ]
  },
  {
   "cell_type": "markdown",
   "metadata": {},
   "source": [
    "Evauate the model by calculating the accuracy. We compare all the predictions with labels and divide it total number of predictions. While comparing we get 0 for all the predictions not equal to labels and 1s for all equal ones."
   ]
  },
  {
   "cell_type": "code",
   "execution_count": 36,
   "metadata": {},
   "outputs": [],
   "source": [
    "def accuracy(output, labels):\n",
    "    _, predict = torch.max(output, dim=1)\n",
    "    return torch.tensor(torch.sum(predict == labels).item()/ len(predict) )"
   ]
  },
  {
   "cell_type": "code",
   "execution_count": 37,
   "metadata": {},
   "outputs": [
    {
     "data": {
      "text/plain": [
       "tensor(0.0625)"
      ]
     },
     "execution_count": 37,
     "metadata": {},
     "output_type": "execute_result"
    }
   ],
   "source": [
    "accuracy(output, labels)"
   ]
  },
  {
   "cell_type": "markdown",
   "metadata": {},
   "source": [
    "Accuracy is not suffient for calculating the loss because it is not differentiable. Therefore we use cross-entropy to calculate loss"
   ]
  },
  {
   "cell_type": "code",
   "execution_count": 38,
   "metadata": {},
   "outputs": [],
   "source": [
    "loss_fn = F.cross_entropy # cross_entropy has built-in softmax"
   ]
  },
  {
   "cell_type": "code",
   "execution_count": 39,
   "metadata": {},
   "outputs": [
    {
     "data": {
      "text/plain": [
       "tensor(2.3338, grad_fn=<NllLossBackward>)"
      ]
     },
     "execution_count": 39,
     "metadata": {},
     "output_type": "execute_result"
    }
   ],
   "source": [
    "loss = loss_fn(output, labels)\n",
    "loss"
   ]
  },
  {
   "cell_type": "markdown",
   "metadata": {},
   "source": [
    "#### Train the Model"
   ]
  },
  {
   "cell_type": "markdown",
   "metadata": {},
   "source": [
    "Training is identical to that done in linear regression except an additional validation phase"
   ]
  },
  {
   "cell_type": "code",
   "execution_count": 40,
   "metadata": {},
   "outputs": [],
   "source": [
    "class MnistModel(nn.Module):\n",
    "    def __init__(self):\n",
    "        super().__init__()\n",
    "        self.linear = nn.Linear(input_size, num_classes)\n",
    "        \n",
    "    def forward(self, x): # funtion to flatten image\n",
    "        x = x.reshape(-1, 784)\n",
    "        out = self.linear(x)\n",
    "        return out\n",
    "    def training_set(self, batch):\n",
    "        images, labels = batch\n",
    "        out = self(images) # Generate Predictions\n",
    "        loss = F.cross_entropy(out, labels) # Calculate loss\n",
    "        return loss\n",
    "    \n",
    "    def validation_step(self, batch):\n",
    "        images, labels = batch\n",
    "        out = self(images)\n",
    "        loss = F.cross_entropy(out, labels)\n",
    "        acc = accuracy(out, labels)\n",
    "        return {'val_loss': loss, 'val_acc': acc}\n",
    "        \n",
    "    def validation_epoch(self, output):\n",
    "        batch_losses = [x['val_loss'] for x in output]\n",
    "        epoch_losses = torch.stack(batch_losses).mean()\n",
    "        batch_accuracies = [x['val_acc'] for x in output]\n",
    "        epoch_accuracies = torch.stack(batch_accuracies).mean()\n",
    "        return {'val_loss':epoch_losses.item(), 'val_acc': epoch_accuracies.item()}\n",
    "    \n",
    "    def epoch_end(self, epoch, result):\n",
    "         print(\"Epoch [{}], val_loss: {:.4f}, val_acc: {:.4f}\".format(epoch, result['val_loss'], result['val_acc']))        \n",
    "\n",
    "model = MnistModel()\n",
    "    \n",
    "        "
   ]
  },
  {
   "cell_type": "code",
   "execution_count": 41,
   "metadata": {},
   "outputs": [],
   "source": [
    "def evaluate(model, val_dl):\n",
    "    output = [model.validation_step(batch) for batch in val_dl]\n",
    "    return model.validation_epoch(output)\n",
    "\n",
    "# Directly check evaluation function\n",
    "#result0 = evaluate(model, val_dl)\n",
    "#result0\n",
    "def fit(epochs, lr, model, train_dl, val_dl, opt_func=torch.optim.SGD):\n",
    "    history = []\n",
    "    optimizer = opt_func(model.parameters(), lr)\n",
    "    for epoch in range(epochs):\n",
    "        # Training Phase \n",
    "        for batch in train_dl:\n",
    "            loss = model.training_set(batch)\n",
    "            loss.backward()\n",
    "            optimizer.step()\n",
    "            optimizer.zero_grad()\n",
    "        # Validation phase\n",
    "        result = evaluate(model, val_dl)\n",
    "        model.epoch_end(epoch, result)\n",
    "        history.append(result)\n",
    "    return history\n",
    "        \n",
    "    "
   ]
  },
  {
   "cell_type": "code",
   "execution_count": 42,
   "metadata": {},
   "outputs": [
    {
     "data": {
      "text/plain": [
       "{'val_loss': 2.327930212020874, 'val_acc': 0.09711234271526337}"
      ]
     },
     "execution_count": 42,
     "metadata": {},
     "output_type": "execute_result"
    }
   ],
   "source": [
    "result0 = evaluate(model, val_dl)\n",
    "result0"
   ]
  },
  {
   "cell_type": "code",
   "execution_count": 43,
   "metadata": {},
   "outputs": [
    {
     "name": "stdout",
     "output_type": "stream",
     "text": [
      "Epoch [0], val_loss: 1.9545, val_acc: 0.6488\n",
      "Epoch [1], val_loss: 1.6854, val_acc: 0.7330\n",
      "Epoch [2], val_loss: 1.4842, val_acc: 0.7658\n",
      "Epoch [3], val_loss: 1.3322, val_acc: 0.7839\n",
      "Epoch [4], val_loss: 1.2155, val_acc: 0.7950\n"
     ]
    }
   ],
   "source": [
    "history1 = fit(5, 0.001, model, train_dl, val_dl)\n"
   ]
  },
  {
   "cell_type": "code",
   "execution_count": 44,
   "metadata": {},
   "outputs": [
    {
     "name": "stdout",
     "output_type": "stream",
     "text": [
      "Epoch [0], val_loss: 1.1240, val_acc: 0.8024\n",
      "Epoch [1], val_loss: 1.0506, val_acc: 0.8087\n",
      "Epoch [2], val_loss: 0.9906, val_acc: 0.8143\n",
      "Epoch [3], val_loss: 0.9406, val_acc: 0.8202\n",
      "Epoch [4], val_loss: 0.8985, val_acc: 0.8236\n"
     ]
    }
   ],
   "source": [
    "history2 = fit(5, 0.001, model, train_dl, val_dl)"
   ]
  },
  {
   "cell_type": "code",
   "execution_count": 45,
   "metadata": {},
   "outputs": [
    {
     "name": "stdout",
     "output_type": "stream",
     "text": [
      "Epoch [0], val_loss: 0.8623, val_acc: 0.8285\n",
      "Epoch [1], val_loss: 0.8310, val_acc: 0.8323\n",
      "Epoch [2], val_loss: 0.8036, val_acc: 0.8333\n",
      "Epoch [3], val_loss: 0.7794, val_acc: 0.8353\n",
      "Epoch [4], val_loss: 0.7578, val_acc: 0.8376\n"
     ]
    }
   ],
   "source": [
    "history3 = fit(5, 0.001, model, train_dl, val_dl)"
   ]
  },
  {
   "cell_type": "code",
   "execution_count": 34,
   "metadata": {},
   "outputs": [
    {
     "name": "stdout",
     "output_type": "stream",
     "text": [
      "Epoch [0], val_loss: 0.7027, val_acc: 0.8521\n",
      "Epoch [1], val_loss: 0.6866, val_acc: 0.8534\n",
      "Epoch [2], val_loss: 0.6718, val_acc: 0.8551\n",
      "Epoch [3], val_loss: 0.6583, val_acc: 0.8564\n",
      "Epoch [4], val_loss: 0.6459, val_acc: 0.8578\n"
     ]
    }
   ],
   "source": [
    "history4 = fit(5, 0.001, model, train_dl, val_dl)"
   ]
  },
  {
   "cell_type": "code",
   "execution_count": 37,
   "metadata": {},
   "outputs": [
    {
     "data": {
      "image/png": "[encoded data removed]",
      "text/plain": [
       "<Figure size 432x288 with 1 Axes>"
      ]
     },
     "metadata": {},
     "output_type": "display_data"
    }
   ],
   "source": [
    "# Replace all values with result\n",
    "history = [result0] + history1 + history2 + history3 + history4\n",
    "accuracies = [result['val_acc'] for result in history]\n",
    "plt.plot(accuracies, '-x')\n",
    "plt.xlabel('epoch')\n",
    "plt.ylabel('accuracy')\n",
    "plt.title('Accuracy vs. No. of epochs');"
   ]
  },
  {
   "cell_type": "code",
   "execution_count": null,
   "metadata": {},
   "outputs": [],
   "source": []
  }
 ],
 "metadata": {
  "kernelspec": {
   "display_name": "Python 3",
   "language": "python",
   "name": "python3"
  },
  "language_info": {
   "codemirror_mode": {
    "name": "ipython",
    "version": 3
   },
   "file_extension": ".py",
   "mimetype": "text/x-python",
   "name": "python",
   "nbconvert_exporter": "python",
   "pygments_lexer": "ipython3",
   "version": "3.6.8"
  }
 },
 "nbformat": 4,
 "nbformat_minor": 2
}

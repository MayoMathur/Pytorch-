{
 "cells": [
  {
   "cell_type": "markdown",
   "metadata": {},
   "source": [
    "### Linear Regression using built-in Pytorch Functions"
   ]
  },
  {
   "cell_type": "code",
   "execution_count": 1,
   "metadata": {},
   "outputs": [],
   "source": [
    "import numpy as np\n",
    "import torch"
   ]
  },
  {
   "cell_type": "markdown",
   "metadata": {},
   "source": [
    "#### Create Dataset "
   ]
  },
  {
   "cell_type": "markdown",
   "metadata": {},
   "source": [
    "For given set of inputs what is the output(target)"
   ]
  },
  {
   "cell_type": "code",
   "execution_count": 4,
   "metadata": {},
   "outputs": [],
   "source": [
    "inputs = np.array([[73, 67, 43],[91, 88, 64],[87, 134,58],[102, 43,37],[69,96,70],\n",
    "                  [73, 67, 43],[91, 88, 64],[87, 134,58],[102, 43,37],[69,96,70],\n",
    "                  [73, 67, 43],[91, 88, 64],[87, 134,58],[102, 43,37],[69,96,70]], dtype='float32')\n",
    "inputs = torch.from_numpy(inputs)\n",
    "target = np.array([[56,70], [81,101], [119,133], [22,37], [103,119],\n",
    "                  [56,70], [81,101], [119,133], [22,37], [103,119],\n",
    "                  [56,70], [81,101], [119,133], [22,37], [103,119]], dtype='float32')\n",
    "target = torch.from_numpy(target)\n"
   ]
  },
  {
   "cell_type": "markdown",
   "metadata": {},
   "source": [
    "#### Dataset and DataLoad"
   ]
  },
  {
   "cell_type": "code",
   "execution_count": 5,
   "metadata": {},
   "outputs": [],
   "source": [
    "from torch.utils.data import TensorDataset"
   ]
  },
  {
   "cell_type": "markdown",
   "metadata": {},
   "source": [
    "We create a dataset from given inputs by slicing a part of inputs instead of using entire dataset.\n",
    "Fist tensor represents input and second tensor represents target."
   ]
  },
  {
   "cell_type": "code",
   "execution_count": 6,
   "metadata": {},
   "outputs": [
    {
     "data": {
      "text/plain": [
       "(tensor([[ 73.,  67.,  43.],\n",
       "         [ 91.,  88.,  64.],\n",
       "         [ 87., 134.,  58.]]), tensor([[ 56.,  70.],\n",
       "         [ 81., 101.],\n",
       "         [119., 133.]]))"
      ]
     },
     "execution_count": 6,
     "metadata": {},
     "output_type": "execute_result"
    }
   ],
   "source": [
    "train_ds = TensorDataset(inputs, target)\n",
    "train_ds[0:3]"
   ]
  },
  {
   "cell_type": "code",
   "execution_count": 7,
   "metadata": {},
   "outputs": [],
   "source": [
    "from torch.utils.data import DataLoader"
   ]
  },
  {
   "cell_type": "markdown",
   "metadata": {},
   "source": [
    "DataLoader is used to split the data into batches which also enables shuffling for better model."
   ]
  },
  {
   "cell_type": "code",
   "execution_count": 8,
   "metadata": {},
   "outputs": [
    {
     "data": {
      "text/plain": [
       "<torch.utils.data.dataloader.DataLoader at 0x7fe75558eb38>"
      ]
     },
     "execution_count": 8,
     "metadata": {},
     "output_type": "execute_result"
    }
   ],
   "source": [
    "batch_size = 5\n",
    "train_dl = DataLoader(train_ds, batch_size, shuffle=True)\n",
    "train_dl"
   ]
  },
  {
   "cell_type": "markdown",
   "metadata": {},
   "source": [
    "Dataloader is used in for-in loop."
   ]
  },
  {
   "cell_type": "code",
   "execution_count": 11,
   "metadata": {},
   "outputs": [
    {
     "name": "stdout",
     "output_type": "stream",
     "text": [
      "tensor([[ 87., 134.,  58.],\n",
      "        [102.,  43.,  37.],\n",
      "        [ 69.,  96.,  70.],\n",
      "        [ 69.,  96.,  70.],\n",
      "        [ 87., 134.,  58.]])\n",
      "tensor([[119., 133.],\n",
      "        [ 22.,  37.],\n",
      "        [103., 119.],\n",
      "        [103., 119.],\n",
      "        [119., 133.]])\n"
     ]
    }
   ],
   "source": [
    "for x, y in train_dl:\n",
    "    #print('batch:')\n",
    "    print(x)\n",
    "    print(y)\n",
    "    break"
   ]
  },
  {
   "cell_type": "markdown",
   "metadata": {},
   "source": [
    "#### Loss function"
   ]
  },
  {
   "cell_type": "markdown",
   "metadata": {},
   "source": [
    "We use _nn.Linear_ for initializing weights and biases with random numbers with requires_grad set to True"
   ]
  },
  {
   "cell_type": "code",
   "execution_count": 12,
   "metadata": {},
   "outputs": [
    {
     "name": "stdout",
     "output_type": "stream",
     "text": [
      "Parameter containing:\n",
      "tensor([[ 0.2320, -0.0114, -0.0173],\n",
      "        [ 0.0987, -0.0019, -0.1276]], requires_grad=True)\n",
      "Parameter containing:\n",
      "tensor([-0.5086,  0.0492], requires_grad=True)\n"
     ]
    }
   ],
   "source": [
    "import torch.nn as nn\n",
    "model = nn.Linear(3, 2)\n",
    "print(model.weight)\n",
    "print(model.bias)"
   ]
  },
  {
   "cell_type": "markdown",
   "metadata": {},
   "source": [
    ".parameters() enlists all the weights and biases."
   ]
  },
  {
   "cell_type": "code",
   "execution_count": 14,
   "metadata": {},
   "outputs": [
    {
     "data": {
      "text/plain": [
       "[Parameter containing:\n",
       " tensor([[ 0.2320, -0.0114, -0.0173],\n",
       "         [ 0.0987, -0.0019, -0.1276]], requires_grad=True),\n",
       " Parameter containing:\n",
       " tensor([-0.5086,  0.0492], requires_grad=True)]"
      ]
     },
     "execution_count": 14,
     "metadata": {},
     "output_type": "execute_result"
    }
   ],
   "source": [
    "list(model.parameters())"
   ]
  },
  {
   "cell_type": "markdown",
   "metadata": {},
   "source": [
    "we create predictions"
   ]
  },
  {
   "cell_type": "code",
   "execution_count": 15,
   "metadata": {},
   "outputs": [
    {
     "data": {
      "text/plain": [
       "tensor([[14.9228,  1.6413],\n",
       "        [18.4965,  0.6988],\n",
       "        [17.1496,  0.9826],\n",
       "        [22.0289,  5.3146],\n",
       "        [13.1966, -2.2534],\n",
       "        [14.9228,  1.6413],\n",
       "        [18.4965,  0.6988],\n",
       "        [17.1496,  0.9826],\n",
       "        [22.0289,  5.3146],\n",
       "        [13.1966, -2.2534],\n",
       "        [14.9228,  1.6413],\n",
       "        [18.4965,  0.6988],\n",
       "        [17.1496,  0.9826],\n",
       "        [22.0289,  5.3146],\n",
       "        [13.1966, -2.2534]], grad_fn=<AddmmBackward>)"
      ]
     },
     "execution_count": 15,
     "metadata": {},
     "output_type": "execute_result"
    }
   ],
   "source": [
    "predict = model(inputs)\n",
    "predict"
   ]
  },
  {
   "cell_type": "code",
   "execution_count": 16,
   "metadata": {},
   "outputs": [],
   "source": [
    "import torch.nn.functional as F"
   ]
  },
  {
   "cell_type": "markdown",
   "metadata": {},
   "source": [
    "We use built-in loss funtion to calculate Mean Square Error. "
   ]
  },
  {
   "cell_type": "code",
   "execution_count": 17,
   "metadata": {},
   "outputs": [],
   "source": [
    "loss_fn = F.mse_loss"
   ]
  },
  {
   "cell_type": "code",
   "execution_count": 21,
   "metadata": {},
   "outputs": [
    {
     "name": "stdout",
     "output_type": "stream",
     "text": [
      "tensor(7190.0376, grad_fn=<MseLossBackward>)\n"
     ]
    }
   ],
   "source": [
    "loss = loss_fn(predict, target)\n",
    "print(loss)"
   ]
  },
  {
   "cell_type": "markdown",
   "metadata": {},
   "source": [
    "#### Optimization"
   ]
  },
  {
   "cell_type": "markdown",
   "metadata": {},
   "source": [
    "Optimization is done to adjust weights and biases that are enlisted with the help of .parameters().\n",
    "We give learning rate(lr) as well to control amount of modification.\n",
    "SGD stands for stochastic gradient descent because samples are selected  in batches and not as single group."
   ]
  },
  {
   "cell_type": "code",
   "execution_count": 22,
   "metadata": {},
   "outputs": [],
   "source": [
    "opt = torch.optim.SGD(model.parameters(), lr= 1e-5)"
   ]
  },
  {
   "cell_type": "markdown",
   "metadata": {},
   "source": [
    "optim.SGD knows which matrices require modification in the above update step."
   ]
  },
  {
   "cell_type": "markdown",
   "metadata": {},
   "source": [
    "#### Train the model"
   ]
  },
  {
   "cell_type": "code",
   "execution_count": 35,
   "metadata": {},
   "outputs": [],
   "source": [
    "# Funtion to train model\n",
    "def fit(num_epochs, model, loss_fn, opt, train_dl):\n",
    "    # Repeat for a number of epochs\n",
    "    for epoch in range(num_epochs):\n",
    "        \n",
    "        # Train with batches\n",
    "        for x, y in train_dl:\n",
    "            \n",
    "            # generate Predictions\n",
    "            predict = model(x)\n",
    "            \n",
    "            # Calculate loss \n",
    "            loss = loss_fn(predict, y)\n",
    "            \n",
    "            # compute Gradient\n",
    "            loss.backward()\n",
    "            \n",
    "            # .step() is equivalent to weight -= weight.grad * 1e-5 adn so for bias\n",
    "            opt.step()\n",
    "            \n",
    "            # Reset gradients to zero\n",
    "            opt.zero_grad()\n",
    "        \n",
    "        # Print loss  for every 10th epoch \n",
    "        if (epoch+1) % 10 == 0:\n",
    "            print('Epoch[{}/{}], Loss: {:.4f}'.format(epoch+1, num_epochs, loss))"
   ]
  },
  {
   "cell_type": "markdown",
   "metadata": {},
   "source": [
    "Apply parameters to the fit() "
   ]
  },
  {
   "cell_type": "code",
   "execution_count": 36,
   "metadata": {},
   "outputs": [
    {
     "name": "stdout",
     "output_type": "stream",
     "text": [
      "Epoch[10/100], Loss: 227.7663\n",
      "Epoch[20/100], Loss: 132.5481\n",
      "Epoch[30/100], Loss: 92.4056\n",
      "Epoch[40/100], Loss: 81.3599\n",
      "Epoch[50/100], Loss: 43.2501\n",
      "Epoch[60/100], Loss: 62.0897\n",
      "Epoch[70/100], Loss: 42.4540\n",
      "Epoch[80/100], Loss: 34.8602\n",
      "Epoch[90/100], Loss: 14.0087\n",
      "Epoch[100/100], Loss: 19.2965\n"
     ]
    }
   ],
   "source": [
    "fit(100, model, loss_fn, opt, train_dl)"
   ]
  },
  {
   "cell_type": "markdown",
   "metadata": {},
   "source": [
    "Compare corrected predictions with target."
   ]
  },
  {
   "cell_type": "code",
   "execution_count": 38,
   "metadata": {},
   "outputs": [
    {
     "data": {
      "text/plain": [
       "tensor([[ 58.1934,  71.4634],\n",
       "        [ 80.6089,  97.6036],\n",
       "        [120.5938, 138.1041],\n",
       "        [ 27.3858,  43.2665],\n",
       "        [ 95.3665, 110.1630],\n",
       "        [ 58.1934,  71.4634],\n",
       "        [ 80.6089,  97.6036],\n",
       "        [120.5938, 138.1041],\n",
       "        [ 27.3858,  43.2665],\n",
       "        [ 95.3665, 110.1630],\n",
       "        [ 58.1934,  71.4634],\n",
       "        [ 80.6089,  97.6036],\n",
       "        [120.5938, 138.1041],\n",
       "        [ 27.3858,  43.2665],\n",
       "        [ 95.3665, 110.1630]], grad_fn=<AddmmBackward>)"
      ]
     },
     "execution_count": 38,
     "metadata": {},
     "output_type": "execute_result"
    }
   ],
   "source": [
    "predict = model(inputs)\n",
    "predict"
   ]
  },
  {
   "cell_type": "code",
   "execution_count": 39,
   "metadata": {},
   "outputs": [
    {
     "data": {
      "text/plain": [
       "tensor([[ 56.,  70.],\n",
       "        [ 81., 101.],\n",
       "        [119., 133.],\n",
       "        [ 22.,  37.],\n",
       "        [103., 119.],\n",
       "        [ 56.,  70.],\n",
       "        [ 81., 101.],\n",
       "        [119., 133.],\n",
       "        [ 22.,  37.],\n",
       "        [103., 119.],\n",
       "        [ 56.,  70.],\n",
       "        [ 81., 101.],\n",
       "        [119., 133.],\n",
       "        [ 22.,  37.],\n",
       "        [103., 119.]])"
      ]
     },
     "execution_count": 39,
     "metadata": {},
     "output_type": "execute_result"
    }
   ],
   "source": [
    "target"
   ]
  },
  {
   "cell_type": "code",
   "execution_count": null,
   "metadata": {},
   "outputs": [],
   "source": []
  }
 ],
 "metadata": {
  "kernelspec": {
   "display_name": "Python 3",
   "language": "python",
   "name": "python3"
  },
  "language_info": {
   "codemirror_mode": {
    "name": "ipython",
    "version": 3
   },
   "file_extension": ".py",
   "mimetype": "text/x-python",
   "name": "python",
   "nbconvert_exporter": "python",
   "pygments_lexer": "ipython3",
   "version": "3.6.8"
  }
 },
 "nbformat": 4,
 "nbformat_minor": 2
}
